{
 "cells": [
  {
   "cell_type": "markdown",
   "metadata": {},
   "source": [
    "### 1. Given a sentence, return the number of words which have the same first and last letter.\n",
    "Examples\n",
    "\n",
    "count_same_ends(\"Pop! goes the balloon\") ➞ 1\n",
    "\n",
    "count_same_ends(\"And the crowd goes wild!\") ➞ 0\n",
    "\n",
    "count_same_ends(\"No I am not in a gang.\") ➞ 1"
   ]
  },
  {
   "cell_type": "code",
   "execution_count": 1,
   "metadata": {},
   "outputs": [],
   "source": [
    "import re\n",
    "def count_same_ends(string):\n",
    "    try:\n",
    "        string = [re.sub('[^a-zA-Z0-9]+', '', i.lower()) for i in string.split(\" \")]        \n",
    "        res = 0\n",
    "        if len(string) > 0:\n",
    "            for word in string:\n",
    "                if len(word) > 1 and word[0] == word[-1]:\n",
    "                    res += 1\n",
    "        return res              \n",
    "\n",
    "    except Exception as e:\n",
    "        print(\"error occurred\",e)"
   ]
  },
  {
   "cell_type": "code",
   "execution_count": 2,
   "metadata": {},
   "outputs": [
    {
     "data": {
      "text/plain": [
       "1"
      ]
     },
     "execution_count": 2,
     "metadata": {},
     "output_type": "execute_result"
    }
   ],
   "source": [
    "count_same_ends(\"Pop! goes the balloon\")"
   ]
  },
  {
   "cell_type": "code",
   "execution_count": 3,
   "metadata": {},
   "outputs": [
    {
     "data": {
      "text/plain": [
       "1"
      ]
     },
     "execution_count": 3,
     "metadata": {},
     "output_type": "execute_result"
    }
   ],
   "source": [
    "count_same_ends(\"No I am not in a gang.\")"
   ]
  },
  {
   "cell_type": "markdown",
   "metadata": {},
   "source": [
    "### 2. The Atbash cipher is an encryption method in which each letter of a word is replaced with its \"mirror\" letter in the alphabet: A <=> Z; B <=> Y; C <=> X; etc.\n",
    "Create a function that takes a string and applies the Atbash cipher to it.\n",
    "\n",
    "Examples\n",
    "\n",
    "atbash(\"apple\") ➞ \"zkkov\"\n",
    "\n",
    "atbash(\"Hello world!\") ➞ \"Svool dliow!\"\n",
    "\n",
    "atbash(\"Christmas is the 25th of December\") ➞ \"Xsirhgnzh rh gsv 25gs lu Wvxvnyvi\""
   ]
  },
  {
   "cell_type": "code",
   "execution_count": 4,
   "metadata": {},
   "outputs": [],
   "source": [
    "def atbash(string):\n",
    "    try:\n",
    "        res = \"\"\n",
    "        letters = 'abcdefghijklmnopqrstuvwxyz'\n",
    "\n",
    "        for char in string:\n",
    "            if ord(char.lower()) >= 97 and ord(char.lower()) <= 122 :\n",
    "                idx = letters.index(char.lower())\n",
    "                res += letters[-(idx+1)] if char.islower() else letters[-(idx+1)].upper()                \n",
    "            else:\n",
    "                res += char\n",
    "        return res               \n",
    "\n",
    "    except Exception as e:\n",
    "        print(\"error occurred\",e)"
   ]
  },
  {
   "cell_type": "code",
   "execution_count": 5,
   "metadata": {},
   "outputs": [
    {
     "data": {
      "text/plain": [
       "'Xsirhgnzh rh gsv 25gs lu Wvxvnyvi'"
      ]
     },
     "execution_count": 5,
     "metadata": {},
     "output_type": "execute_result"
    }
   ],
   "source": [
    "atbash(\"Christmas is the 25th of December\")"
   ]
  },
  {
   "cell_type": "markdown",
   "metadata": {},
   "source": [
    "### 3. Create a class Employee that will take a full name as argument, as well as a set of none, one or more keywords. Each instance should have a name and a lastname attributes plus one more attribute for each of the keywords, if any.\n",
    "Examples\n",
    "\n",
    "john = Employee(\"John Doe\")\n",
    "\n",
    "mary = Employee(\"Mary Major\", salary=120000)\n",
    "\n",
    "richard = Employee(\"Richard Roe\", salary=110000, height=178)\n",
    "\n",
    "giancarlo = Employee(\"Giancarlo Rossi\", salary=115000, height=182, nationality=\"Italian\")\n",
    "\n",
    "john.name ➞ \"John\"\n",
    "\n",
    "mary.lastname ➞ \"Major\"\n",
    "\n",
    "richard.height ➞ 178\n",
    "\n",
    "giancarlo.nationality ➞ \"Italian\""
   ]
  },
  {
   "cell_type": "code",
   "execution_count": 6,
   "metadata": {},
   "outputs": [],
   "source": [
    "class Employee:\n",
    "    def __init__(self,name,**kwargs):\n",
    "        self.name = name.split(\" \")[0]\n",
    "        self.lastname = name.split(\" \")[1]\n",
    "        self.__dict__.update(kwargs)\n",
    "        \n",
    "john = Employee(\"John Doe\") \n",
    "mary = Employee(\"Mary Major\", salary=120000) \n",
    "richard = Employee(\"Richard Roe\", salary=110000, height=178) \n",
    "giancarlo = Employee(\"Giancarlo Rossi\", salary=115000, height=182, nationality=\"Italian\")"
   ]
  },
  {
   "cell_type": "code",
   "execution_count": 7,
   "metadata": {},
   "outputs": [
    {
     "data": {
      "text/plain": [
       "'John'"
      ]
     },
     "execution_count": 7,
     "metadata": {},
     "output_type": "execute_result"
    }
   ],
   "source": [
    "john.name"
   ]
  },
  {
   "cell_type": "code",
   "execution_count": 8,
   "metadata": {},
   "outputs": [
    {
     "data": {
      "text/plain": [
       "'Major'"
      ]
     },
     "execution_count": 8,
     "metadata": {},
     "output_type": "execute_result"
    }
   ],
   "source": [
    "mary.lastname"
   ]
  },
  {
   "cell_type": "code",
   "execution_count": 9,
   "metadata": {},
   "outputs": [
    {
     "data": {
      "text/plain": [
       "178"
      ]
     },
     "execution_count": 9,
     "metadata": {},
     "output_type": "execute_result"
    }
   ],
   "source": [
    "richard.height"
   ]
  },
  {
   "cell_type": "code",
   "execution_count": 10,
   "metadata": {},
   "outputs": [
    {
     "data": {
      "text/plain": [
       "'Italian'"
      ]
     },
     "execution_count": 10,
     "metadata": {},
     "output_type": "execute_result"
    }
   ],
   "source": [
    "giancarlo.nationality"
   ]
  },
  {
   "cell_type": "markdown",
   "metadata": {},
   "source": [
    "### 4. Create a function that determines whether each seat can \"see\" the front-stage. A number can \"see\" the front-stage if it is strictly greater than the number before it.\n",
    "Everyone can see the front-stage in the example below:\n",
    "\n",
    "FRONT STAGE\n",
    "\n",
    "[[1, 2, 3, 2, 1, 1], \n",
    "[2, 4, 4, 3, 2, 2], \n",
    "[5, 5, 5, 5, 4, 4], \n",
    "[6, 6, 7, 6, 5, 5]]\n",
    "Starting from the left, the 6 > 5 > 2 > 1, so all numbers can see.\n",
    "\n",
    "6 > 5 > 4 > 2 - so all numbers can see, etc.\n",
    "\n",
    "Not everyone can see the front-stage in the example below:\n",
    "\n",
    "FRONT STAGE\n",
    "\n",
    "[[1, 2, 3, 2, 1, 1], \n",
    "[2, 4, 4, 3, 2, 2], \n",
    "[5, 5, 5, 10, 4, 4], \n",
    "[6, 6, 7, 6, 5, 5]]\n",
    "The 10 is directly in front of the 6 and blocking its view.\n",
    "\n",
    "The function should return True if every number can see the front-stage, and False if even a single number cannot.\n",
    "\n",
    "Examples\n",
    "\n",
    "can_see_stage([ [1, 2, 3], [4, 5, 6], [7, 8, 9] ]) ➞ True\n",
    "\n",
    "can_see_stage([ [0, 0, 0], [1, 1, 1], [2, 2, 2] ]) ➞ True\n",
    "\n",
    "can_see_stage([ [2, 0, 0], [1, 1, 1], [2, 2, 2] ]) ➞ False\n",
    "\n",
    "can_see_stage([ [1, 0, 0], [1, 1, 1], [2, 2, 2] ]) ➞ False\n",
    "\n",
    "Number must be strictly smaller than\n",
    "\n",
    "the number directly behind it."
   ]
  },
  {
   "cell_type": "code",
   "execution_count": 11,
   "metadata": {},
   "outputs": [],
   "source": [
    "import numpy as np\n",
    "def can_see_stage(arr):\n",
    "    try:\n",
    "        arr = np.array(arr)\n",
    "        res = True\n",
    "        for i in arr.T:\n",
    "            for j in range(len(i)-1,0,-1):\n",
    "                if i[j] <= i[j-1]:\n",
    "                    res = False\n",
    "                    break\n",
    "        return res          \n",
    "                \n",
    "    except Exception as e:\n",
    "        print(\"error occurred\",e)"
   ]
  },
  {
   "cell_type": "code",
   "execution_count": 12,
   "metadata": {},
   "outputs": [
    {
     "data": {
      "text/plain": [
       "True"
      ]
     },
     "execution_count": 12,
     "metadata": {},
     "output_type": "execute_result"
    }
   ],
   "source": [
    "can_see_stage([ [1, 2, 3], [4, 5, 6], [7, 8, 9] ])"
   ]
  },
  {
   "cell_type": "code",
   "execution_count": 13,
   "metadata": {},
   "outputs": [
    {
     "data": {
      "text/plain": [
       "True"
      ]
     },
     "execution_count": 13,
     "metadata": {},
     "output_type": "execute_result"
    }
   ],
   "source": [
    "can_see_stage([ [0, 0, 0], [1, 1, 1], [2, 2, 2] ])"
   ]
  },
  {
   "cell_type": "markdown",
   "metadata": {},
   "source": [
    "### 5. Create a Pizza class with the attributes order_number and ingredients (which is given as a list). Only the ingredients will be given as input.\n",
    "You should also make it so that its possible to choose a ready made pizza flavour rather than typing out the ingredients manually! As well as creating this Pizza class, hard-code the following pizza flavours.\n",
    "\n",
    "Name\tIngredients\n",
    "hawaiian\tham, pineapple\n",
    "meat_festival\tbeef, meatball, bacon\n",
    "garden_feast\tspinach, olives, mushroom\n",
    "Examples:\n",
    "\n",
    "p1 = Pizza([\"bacon\", \"parmesan\", \"ham\"]) # order 1\n",
    "\n",
    "p2 = Pizza.garden_feast() # order 2\n",
    "\n",
    "p1.ingredients ➞ [\"bacon\", \"parmesan\", \"ham\"]\n",
    "\n",
    "p2.ingredients ➞ [\"spinach\", \"olives\", \"mushroom\"]\n",
    "\n",
    "p1.order_number ➞ 1\n",
    "\n",
    "p2.order_number ➞ 2"
   ]
  },
  {
   "cell_type": "code",
   "execution_count": 14,
   "metadata": {},
   "outputs": [],
   "source": [
    "class Pizza:\n",
    "    order_number = 0\n",
    "    def __init__(self, ingredients):\n",
    "        \n",
    "        self.ingredients = ingredients\n",
    "        Pizza.order_number += 1\n",
    "        self.order_number = Pizza.order_number\n",
    "        \n",
    "    @classmethod    \n",
    "    def garden_feast(cls):\n",
    "        return cls([\"spinach\", \"olives\", \"mushroom\"])\n",
    "        \n",
    "    def hawaiian(cls):\n",
    "        return cls([\"ham\", \"pineapple\"])\n",
    "    \n",
    "    def meat_festival(cls):\n",
    "        return cls([\"beef\", \"meatball\", \"bacon\"])"
   ]
  },
  {
   "cell_type": "code",
   "execution_count": 15,
   "metadata": {},
   "outputs": [],
   "source": [
    "p1 = Pizza([\"bacon\", \"parmesan\", \"ham\"]) # order 1\n",
    "\n",
    "p2 = Pizza.garden_feast() # order 2"
   ]
  },
  {
   "cell_type": "code",
   "execution_count": 16,
   "metadata": {},
   "outputs": [
    {
     "data": {
      "text/plain": [
       "['bacon', 'parmesan', 'ham']"
      ]
     },
     "execution_count": 16,
     "metadata": {},
     "output_type": "execute_result"
    }
   ],
   "source": [
    "p1.ingredients"
   ]
  },
  {
   "cell_type": "code",
   "execution_count": 17,
   "metadata": {},
   "outputs": [
    {
     "data": {
      "text/plain": [
       "['spinach', 'olives', 'mushroom']"
      ]
     },
     "execution_count": 17,
     "metadata": {},
     "output_type": "execute_result"
    }
   ],
   "source": [
    "p2.ingredients"
   ]
  },
  {
   "cell_type": "code",
   "execution_count": 18,
   "metadata": {},
   "outputs": [
    {
     "data": {
      "text/plain": [
       "1"
      ]
     },
     "execution_count": 18,
     "metadata": {},
     "output_type": "execute_result"
    }
   ],
   "source": [
    "p1.order_number"
   ]
  },
  {
   "cell_type": "code",
   "execution_count": 19,
   "metadata": {},
   "outputs": [
    {
     "data": {
      "text/plain": [
       "2"
      ]
     },
     "execution_count": 19,
     "metadata": {},
     "output_type": "execute_result"
    }
   ],
   "source": [
    "p2.order_number"
   ]
  },
  {
   "cell_type": "code",
   "execution_count": null,
   "metadata": {},
   "outputs": [],
   "source": []
  }
 ],
 "metadata": {
  "kernelspec": {
   "display_name": "Python 3",
   "language": "python",
   "name": "python3"
  },
  "language_info": {
   "codemirror_mode": {
    "name": "ipython",
    "version": 3
   },
   "file_extension": ".py",
   "mimetype": "text/x-python",
   "name": "python",
   "nbconvert_exporter": "python",
   "pygments_lexer": "ipython3",
   "version": "3.8.5"
  }
 },
 "nbformat": 4,
 "nbformat_minor": 4
}

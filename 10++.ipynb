{
 "cells": [
  {
   "cell_type": "markdown",
   "metadata": {},
   "source": [
    "### 1. Create a function that takes the width, height and character and returns a picture frame as a 2D list.\n",
    "Examples\n",
    "\n",
    "get_frame(4, 5, \"#\") ➞\n",
    "\n",
    "[ [\"####\"],\n",
    "\n",
    "[\"# #\"],\n",
    "\n",
    "[\"# #\"],\n",
    "\n",
    "[\"# #\"],\n",
    "\n",
    "[\"####\"] ]\n",
    "\n",
    "Frame is 4 characters wide and 5 characters tall.\n",
    "get_frame(10, 3, \"*\") ➞\n",
    "\n",
    "[ [\"**\"],\n",
    "\n",
    "[\" \"],\n",
    "\n",
    "[\"**\"] ]\n",
    "\n",
    "Frame is 10 characters and wide and 3 characters tall.\n",
    "get_frame(2, 5, \"0\") ➞ \"invalid\"\n",
    "\n",
    "Frame's width is not more than 2."
   ]
  },
  {
   "cell_type": "code",
   "execution_count": 2,
   "metadata": {},
   "outputs": [],
   "source": [
    "def get_frame(width, height, character):\n",
    "    try:\n",
    "        if width > 2 :\n",
    "            res = []\n",
    "            for i in range(height):\n",
    "                if i > 0 and i < height - 1:\n",
    "                    res.append([character + ' '*(width-2) + character])\n",
    "                else:\n",
    "                    res.append([character*width])\n",
    "            for j in res:\n",
    "                print (j, end = '\\n')\n",
    "        else:\n",
    "            print(\"invalid\")\n",
    "            \n",
    "    except Exception as e:\n",
    "        print(\"error occurred\",e)"
   ]
  },
  {
   "cell_type": "code",
   "execution_count": 3,
   "metadata": {},
   "outputs": [
    {
     "name": "stdout",
     "output_type": "stream",
     "text": [
      "['****']\n",
      "['*  *']\n",
      "['*  *']\n",
      "['*  *']\n",
      "['****']\n"
     ]
    }
   ],
   "source": [
    "get_frame(4, 5, \"*\")"
   ]
  },
  {
   "cell_type": "markdown",
   "metadata": {},
   "source": [
    "### 2. Write three functions:\n",
    "boolean_and\n",
    "boolean_or\n",
    "boolean_xor These functions should evaluate a list of True and False values, starting from the leftmost element and evaluating pairwise.\n",
    "Examples\n",
    "\n",
    "boolean_and([True, True, False, True]) ➞ False\n",
    "\n",
    "[True, True, False, True] => [True, False, True] => [False, True] => False\n",
    "boolean_or([True, True, False, False]) ➞ True\n",
    "\n",
    "[True, True, False, True] => [True, False, False] => [True, False] => True\n",
    "boolean_xor([True, True, False, False]) ➞ False\n",
    "\n",
    "[True, True, False, False] => [False, False, False] => [False, False] => False"
   ]
  },
  {
   "cell_type": "code",
   "execution_count": 4,
   "metadata": {},
   "outputs": [],
   "source": [
    "def boolean_and(bool_list):\n",
    "    try:\n",
    "        res = bool_list[0]\n",
    "        for i in bool_list[1:]:\n",
    "            res = res & i\n",
    "        print(res)\n",
    "        \n",
    "    except Exception as e:\n",
    "        print(\"error occurred\",e)\n",
    "        \n",
    "def boolean_or(bool_list):\n",
    "    try:\n",
    "        res = bool_list[0]\n",
    "        for i in bool_list[1:]:\n",
    "            res = res | i\n",
    "        print(res)\n",
    "        \n",
    "    except Exception as e:\n",
    "        print(\"error occurred\",e)\n",
    "        \n",
    "def boolean_xor(bool_list):\n",
    "    try:\n",
    "        res = bool_list[0]\n",
    "        for i in bool_list[1:]:\n",
    "            res = res ^ i \n",
    "        print (res)\n",
    "            \n",
    "    except Exception as e:\n",
    "        print(\"error occurred\",e)    "
   ]
  },
  {
   "cell_type": "code",
   "execution_count": 5,
   "metadata": {},
   "outputs": [
    {
     "name": "stdout",
     "output_type": "stream",
     "text": [
      "False\n"
     ]
    }
   ],
   "source": [
    "boolean_and([True, True, False, True])"
   ]
  },
  {
   "cell_type": "code",
   "execution_count": 6,
   "metadata": {},
   "outputs": [
    {
     "name": "stdout",
     "output_type": "stream",
     "text": [
      "True\n"
     ]
    }
   ],
   "source": [
    "boolean_or([True, True, False, False]) "
   ]
  },
  {
   "cell_type": "code",
   "execution_count": 7,
   "metadata": {},
   "outputs": [
    {
     "name": "stdout",
     "output_type": "stream",
     "text": [
      "False\n"
     ]
    }
   ],
   "source": [
    "boolean_xor([True, True,False, False])"
   ]
  },
  {
   "cell_type": "markdown",
   "metadata": {},
   "source": [
    "### 3. Create a function that creates a box based on dimension n.\n",
    "Examples\n",
    "\n",
    "make_box(5) ➞ [ \"#####\", \"# #\", \"# #\", \"# #\", \"#####\" ]\n",
    "\n",
    "make_box(3) ➞ [ \"###\", \"# #\", \"###\" ]\n",
    "\n",
    "make_box(2) ➞ [ \"##\", \"##\" ]\n",
    "\n",
    "make_box(1) ➞ [ \"#\" ]"
   ]
  },
  {
   "cell_type": "code",
   "execution_count": 8,
   "metadata": {},
   "outputs": [],
   "source": [
    "def make_box(n):\n",
    "    try:\n",
    "        if n > 2 :\n",
    "            res = []\n",
    "            for i in range(n):\n",
    "                if i > 0 and i < n - 1:\n",
    "                    res.append([\"#\" + ' '*(n-2) + \"#\"])\n",
    "                else:\n",
    "                    res.append([\"#\"*n])\n",
    "            for j in res:\n",
    "                print (j, end = '\\n')\n",
    "        else:\n",
    "            print(\"invalid\")\n",
    "            \n",
    "    except Exception as e:\n",
    "        print(\"error occurred\",e)"
   ]
  },
  {
   "cell_type": "code",
   "execution_count": 9,
   "metadata": {},
   "outputs": [
    {
     "name": "stdout",
     "output_type": "stream",
     "text": [
      "['#####']\n",
      "['#   #']\n",
      "['#   #']\n",
      "['#   #']\n",
      "['#####']\n"
     ]
    }
   ],
   "source": [
    "make_box(5)"
   ]
  },
  {
   "cell_type": "markdown",
   "metadata": {},
   "source": [
    "### 4. Given a common phrase, return False if any individual word in the phrase contains duplicate letters. Return True otherwise.\n",
    "Examples\n",
    "\n",
    "no_duplicate_letters(\"Fortune favours the bold.\") ➞ True\n",
    "\n",
    "no_duplicate_letters(\"You can lead a horse to water, but you can't make him drink.\") ➞ True\n",
    "\n",
    "no_duplicate_letters(\"Look before you leap.\") ➞ False\n",
    "\n",
    "Duplicate letters in \"Look\" and \"before\".\n",
    "no_duplicate_letters(\"An apple a day keeps the doctor away.\") ➞ False\n",
    "\n",
    "Duplicate letters in \"apple\", \"keeps\", \"doctor\", and \"away\"."
   ]
  },
  {
   "cell_type": "code",
   "execution_count": 10,
   "metadata": {},
   "outputs": [],
   "source": [
    "sen = \"An apple a day keeps the doctor away.\"\n",
    "\n",
    "def no_duplicate_letters(string):\n",
    "    try:\n",
    "        string_list = string.split()\n",
    "\n",
    "        for word in string_list:\n",
    "            if len(word) != len(set(word)):\n",
    "                return False            \n",
    "                break\n",
    "        else:\n",
    "            return True\n",
    "        \n",
    "    except Exception as e:\n",
    "        print(\"error occurred\",e)\n",
    "        "
   ]
  },
  {
   "cell_type": "code",
   "execution_count": 11,
   "metadata": {},
   "outputs": [
    {
     "data": {
      "text/plain": [
       "True"
      ]
     },
     "execution_count": 11,
     "metadata": {},
     "output_type": "execute_result"
    }
   ],
   "source": [
    "no_duplicate_letters(\"Fortune favours the bold.\") "
   ]
  },
  {
   "cell_type": "code",
   "execution_count": 12,
   "metadata": {},
   "outputs": [
    {
     "data": {
      "text/plain": [
       "True"
      ]
     },
     "execution_count": 12,
     "metadata": {},
     "output_type": "execute_result"
    }
   ],
   "source": [
    "no_duplicate_letters(\"You can lead a horse to water, but you can't make him drink.\") "
   ]
  },
  {
   "cell_type": "code",
   "execution_count": 13,
   "metadata": {},
   "outputs": [
    {
     "data": {
      "text/plain": [
       "False"
      ]
     },
     "execution_count": 13,
     "metadata": {},
     "output_type": "execute_result"
    }
   ],
   "source": [
    "no_duplicate_letters(\"An apple a day keeps the doctor away.\")"
   ]
  },
  {
   "cell_type": "markdown",
   "metadata": {},
   "source": [
    "### 5. Write a regular expression that will match the states that voted yes to President Trump's impeachment. You must use RegEx positive lookahead.\n",
    "Example\n",
    "\n",
    "txt = \"Texas = no, California = yes, Florida = yes, Michigan = no\" pattern = \"yourregularexpressionhere\"\n",
    "\n",
    "re.findall(pattern, txt) ➞ [\"California\", \"Florida\"]\n",
    "\n"
   ]
  },
  {
   "cell_type": "code",
   "execution_count": 14,
   "metadata": {},
   "outputs": [
    {
     "data": {
      "text/plain": [
       "['California', 'Florida']"
      ]
     },
     "execution_count": 14,
     "metadata": {},
     "output_type": "execute_result"
    }
   ],
   "source": [
    "import re\n",
    "txt= \"Texas = no, California = yes, Florida = yes, Michigan = no\"\n",
    "\n",
    "pattern = \"\\w+(?= = yes)\"\n",
    "\n",
    "re.findall(pattern, txt)"
   ]
  },
  {
   "cell_type": "code",
   "execution_count": null,
   "metadata": {},
   "outputs": [],
   "source": []
  }
 ],
 "metadata": {
  "kernelspec": {
   "display_name": "Python 3",
   "language": "python",
   "name": "python3"
  },
  "language_info": {
   "codemirror_mode": {
    "name": "ipython",
    "version": 3
   },
   "file_extension": ".py",
   "mimetype": "text/x-python",
   "name": "python",
   "nbconvert_exporter": "python",
   "pygments_lexer": "ipython3",
   "version": "3.8.5"
  }
 },
 "nbformat": 4,
 "nbformat_minor": 4
}

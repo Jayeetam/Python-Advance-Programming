{
 "cells": [
  {
   "cell_type": "markdown",
   "metadata": {},
   "source": [
    "### 1. Create a function that takes a list and returns a new list containing only prime numbers.\n",
    "Examples\n",
    "\n",
    "filter_primes([7, 9, 3, 9, 10, 11, 27]) ➞ [7, 3, 11]\n",
    "\n",
    "filter_primes([10007, 1009, 1007, 27, 147, 77, 1001, 70]) ➞ [10007, 1009]\n",
    "\n",
    "filter_primes([1009, 10, 10, 10, 3, 33, 9, 4, 1, 61, 63, 69, 1087, 1091, 1093, 1097]) ➞ [1009, 3, 61, 1087, 1091, 1093, 1097]"
   ]
  },
  {
   "cell_type": "code",
   "execution_count": 1,
   "metadata": {},
   "outputs": [],
   "source": [
    "def prime(num):\n",
    "    if num > 1:\n",
    "        for i in range(2, num):\n",
    "            if num % i == 0:\n",
    "                return False\n",
    "                break\n",
    "        else:\n",
    "            return True\n",
    "    else:\n",
    "        return False\n",
    "        \n",
    "            \n",
    "\n",
    "def filter_primes(num_list):\n",
    "    try:\n",
    "        res = []\n",
    "        for num in num_list:\n",
    "            if prime(num):\n",
    "                res.append(num)\n",
    "        return res\n",
    "        \n",
    "    except Exception as e:\n",
    "        print(\"error occurred\",e)"
   ]
  },
  {
   "cell_type": "code",
   "execution_count": 2,
   "metadata": {},
   "outputs": [
    {
     "data": {
      "text/plain": [
       "[10007, 1009]"
      ]
     },
     "execution_count": 2,
     "metadata": {},
     "output_type": "execute_result"
    }
   ],
   "source": [
    "filter_primes([10007, 1009, 1007, 27, 147, 77, 1001, 70])"
   ]
  },
  {
   "cell_type": "code",
   "execution_count": 3,
   "metadata": {},
   "outputs": [
    {
     "data": {
      "text/plain": [
       "[1009, 3, 61, 1087, 1091, 1093, 1097]"
      ]
     },
     "execution_count": 3,
     "metadata": {},
     "output_type": "execute_result"
    }
   ],
   "source": [
    "filter_primes([1009, 10, 10, 10, 3, 33, 9, 4, 1, 61, 63, 69, 1087, 1091, 1093, 1097])"
   ]
  },
  {
   "cell_type": "markdown",
   "metadata": {},
   "source": [
    "### 2. Once a water balloon pops, is soaks the area around it. The ground gets drier the further away you travel from the balloon.\n",
    "The effect of a water balloon popping can be modeled using a list. Create a function that takes a list which takes the pre-pop state and returns the state after the balloon is popped. The pre-pop state will contain at most a single balloon, whose size is represented by the only non-zero element.\n",
    "\n",
    "Examples\n",
    "\n",
    "pop([0, 0, 0, 0, 4, 0, 0, 0, 0]) ➞ [0, 1, 2, 3, 4, 3, 2, 1, 0]\n",
    "\n",
    "pop([0, 0, 0, 3, 0, 0, 0]) ➞ [0, 1, 2, 3, 2, 1, 0]\n",
    "\n",
    "pop([0, 0, 2, 0, 0]) ➞ [0, 1, 2, 1, 0]\n",
    "\n",
    "pop([0]) ➞ [0]"
   ]
  },
  {
   "cell_type": "code",
   "execution_count": 4,
   "metadata": {},
   "outputs": [],
   "source": [
    "def pop(inp_lst):\n",
    "    try:\n",
    "        res = inp_lst\n",
    "        if len(inp_lst)%2 != 0:\n",
    "            for i in range(int((len(inp_lst)+1)/2 - 1)):\n",
    "                res[i] = res[-(i+1)] = i\n",
    "            return res\n",
    "        else:\n",
    "            return None\n",
    "    except Exception as e:\n",
    "        print(\"error occurred\",e)"
   ]
  },
  {
   "cell_type": "code",
   "execution_count": 5,
   "metadata": {},
   "outputs": [
    {
     "data": {
      "text/plain": [
       "[0, 1, 2, 3, 2, 1, 0]"
      ]
     },
     "execution_count": 5,
     "metadata": {},
     "output_type": "execute_result"
    }
   ],
   "source": [
    "pop([0, 0, 0, 3, 0, 0, 0])"
   ]
  },
  {
   "cell_type": "code",
   "execution_count": 6,
   "metadata": {},
   "outputs": [
    {
     "data": {
      "text/plain": [
       "[0]"
      ]
     },
     "execution_count": 6,
     "metadata": {},
     "output_type": "execute_result"
    }
   ],
   "source": [
    "pop([0])"
   ]
  },
  {
   "cell_type": "markdown",
   "metadata": {},
   "source": [
    "### 3. \"Loves me, loves me not\" is a traditional game in which a person plucks off all the petals of a flower one by one, saying the phrase \"Loves me\" and \"Loves me not\" when determining whether the one that they love, loves them back.\n",
    "Given a number of petals, return a string which repeats the phrases \"Loves me\" and \"Loves me not\" for every alternating petal, and return the last phrase in all caps. Remember to put a comma and space between phrases.\n",
    "\n",
    "Examples\n",
    "\n",
    "loves_me(3) ➞ \"Loves me, Loves me not, LOVES ME\"\n",
    "\n",
    "loves_me(6) ➞ \"Loves me, Loves me not, Loves me, Loves me not, Loves me, LOVES ME NOT\"\n",
    "\n",
    "loves_me(1) ➞ \"LOVES ME\""
   ]
  },
  {
   "cell_type": "code",
   "execution_count": 7,
   "metadata": {},
   "outputs": [],
   "source": [
    "def loves_me(repeat):\n",
    "    try:\n",
    "        string = [\"Loves me\",\"Loves me not\"]\n",
    "        res = []\n",
    "        for i in range(repeat):\n",
    "            if i%2 == 0:\n",
    "                res.append(string[0])\n",
    "            else:\n",
    "                res.append(string[1])\n",
    "                \n",
    "        res[-1] = res[-1].upper()            \n",
    "            \n",
    "        return str(\", \".join(res))\n",
    "    \n",
    "    except Exception as e:\n",
    "        print(\"error occurred\",e)"
   ]
  },
  {
   "cell_type": "code",
   "execution_count": 8,
   "metadata": {},
   "outputs": [
    {
     "data": {
      "text/plain": [
       "'Loves me, Loves me not, LOVES ME'"
      ]
     },
     "execution_count": 8,
     "metadata": {},
     "output_type": "execute_result"
    }
   ],
   "source": [
    "loves_me(3)"
   ]
  },
  {
   "cell_type": "code",
   "execution_count": 9,
   "metadata": {},
   "outputs": [
    {
     "data": {
      "text/plain": [
       "'Loves me, Loves me not, Loves me, Loves me not, Loves me, LOVES ME NOT'"
      ]
     },
     "execution_count": 9,
     "metadata": {},
     "output_type": "execute_result"
    }
   ],
   "source": [
    "loves_me(6)"
   ]
  },
  {
   "cell_type": "code",
   "execution_count": 10,
   "metadata": {},
   "outputs": [
    {
     "data": {
      "text/plain": [
       "'LOVES ME'"
      ]
     },
     "execution_count": 10,
     "metadata": {},
     "output_type": "execute_result"
    }
   ],
   "source": [
    "loves_me(1)"
   ]
  },
  {
   "cell_type": "markdown",
   "metadata": {},
   "source": [
    "### 4. Write a function that sorts each string in a list by the letter in alphabetic ascending order (a-z).\n",
    "Examples\n",
    "\n",
    "sort_by_letter([\"932c\", \"832u32\", \"2344b\"]) ➞ [\"2344b\", \"932c\", \"832u32\"]\n",
    "\n",
    "sort_by_letter([\"99a\", \"78b\", \"c2345\", \"11d\"]) ➞ [\"99a\", \"78b\", \"c2345\", \"11d\"]\n",
    "\n",
    "sort_by_letter([\"572z\", \"5y5\", \"304q2\"]) ➞ [\"304q2\", \"5y5\", \"572z\"]\n",
    "\n",
    "sort_by_letter([]) ➞ []"
   ]
  },
  {
   "cell_type": "code",
   "execution_count": 11,
   "metadata": {},
   "outputs": [],
   "source": [
    "import re\n",
    "\n",
    "def sort_by_letter(string_list):\n",
    "    try:\n",
    "        res = []\n",
    "        # filtering characters only\n",
    "        chars=sorted(re.findall(r'[a-zA-Z]',\" \".join(string_list)))\n",
    "        \n",
    "        for ele in chars:\n",
    "            for j in string_list:\n",
    "                if ele in j:\n",
    "                    res.append(j)\n",
    "        if len(res)==len(string_list):\n",
    "            print(res)\n",
    "        else:\n",
    "            print(\"Only one letter should be used in the alphanumeric word.\")                    \n",
    "        \n",
    "    except Exception as e:\n",
    "        print(\"error occurred\",e)"
   ]
  },
  {
   "cell_type": "code",
   "execution_count": 12,
   "metadata": {},
   "outputs": [
    {
     "name": "stdout",
     "output_type": "stream",
     "text": [
      "['2344b', '932c', '832u32']\n"
     ]
    }
   ],
   "source": [
    "sort_by_letter([\"932c\", \"832u32\", \"2344b\"])"
   ]
  },
  {
   "cell_type": "code",
   "execution_count": 13,
   "metadata": {},
   "outputs": [
    {
     "name": "stdout",
     "output_type": "stream",
     "text": [
      "['99a', '78b', 'c2345', '11d']\n"
     ]
    }
   ],
   "source": [
    "sort_by_letter([\"99a\", \"78b\", \"c2345\", \"11d\"]) "
   ]
  },
  {
   "cell_type": "code",
   "execution_count": 14,
   "metadata": {},
   "outputs": [
    {
     "name": "stdout",
     "output_type": "stream",
     "text": [
      "['304q2', '5y5', '572z']\n"
     ]
    }
   ],
   "source": [
    "sort_by_letter([\"572z\", \"5y5\", \"304q2\"])"
   ]
  },
  {
   "cell_type": "markdown",
   "metadata": {},
   "source": [
    "### 5. There are three cups on a table, at positions A, B, and C. At the start, there is a ball hidden under the cup at position B.\n",
    "However, I perform several swaps on the cups, which is notated as two letters. For example, if I swap the cups at positions A and B, I could notate this as AB or BA.\n",
    "\n",
    "Create a function that returns the letter position that the ball is at, once I finish swapping the cups. The swaps will be given to you as a list.\n",
    "\n",
    "Example\n",
    "\n",
    "cup_swapping([\"AB\", \"CA\", \"AB\"]) ➞ \"C\"\n",
    "\n",
    "Ball begins at position B.\n",
    "Cups A and B swap, so the ball is at position A.\n",
    "Cups C and A swap, so the ball is at position C.\n",
    "Cups A and B swap, but the ball is at position C, so it doesn't move."
   ]
  },
  {
   "cell_type": "code",
   "execution_count": 15,
   "metadata": {},
   "outputs": [],
   "source": [
    "def cup_swapping(swap_list):\n",
    "    try:\n",
    "        initial_ball_pos = 'B'\n",
    "\n",
    "        for i in swap_list:\n",
    "            if initial_ball_pos in i:            \n",
    "                if i[0] == initial_ball_pos: \n",
    "                    initial_ball_pos = i[1]\n",
    "                else:\n",
    "                    initial_ball_pos = i[0]  \n",
    "        return initial_ball_pos\n",
    "    except Exception as e:\n",
    "        print(\"error occurred\",e)"
   ]
  },
  {
   "cell_type": "code",
   "execution_count": 16,
   "metadata": {},
   "outputs": [
    {
     "data": {
      "text/plain": [
       "'C'"
      ]
     },
     "execution_count": 16,
     "metadata": {},
     "output_type": "execute_result"
    }
   ],
   "source": [
    "cup_swapping([\"AB\", \"CA\", \"AB\"])"
   ]
  },
  {
   "cell_type": "code",
   "execution_count": null,
   "metadata": {},
   "outputs": [],
   "source": []
  }
 ],
 "metadata": {
  "kernelspec": {
   "display_name": "Python 3",
   "language": "python",
   "name": "python3"
  },
  "language_info": {
   "codemirror_mode": {
    "name": "ipython",
    "version": 3
   },
   "file_extension": ".py",
   "mimetype": "text/x-python",
   "name": "python",
   "nbconvert_exporter": "python",
   "pygments_lexer": "ipython3",
   "version": "3.8.5"
  }
 },
 "nbformat": 4,
 "nbformat_minor": 4
}

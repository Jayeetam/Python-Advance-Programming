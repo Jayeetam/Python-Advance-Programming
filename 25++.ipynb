{
 "cells": [
  {
   "cell_type": "markdown",
   "metadata": {},
   "source": [
    "### 1. Write four functions that directly mutate a list:\n",
    "1. repeat(lst, n): Repeat lst n times.\n",
    "2. add(lst, x): Adds x to the end of the lst.\n",
    "3. remove(lst, m, n): Removes all elements between indices m and n inclusive in lst.\n",
    "4. concat(lst, x): concatenates lst with x (another list).\n",
    "Examples\n",
    "\n",
    "lst = [1, 2, 3, 4]\n",
    "\n",
    "repeat(lst, 3) ➞ [1, 2, 3, 4, 1, 2, 3, 4, 1, 2, 3, 4] \n",
    "\n",
    "add(lst, 1) ➞ [1, 2, 3, 4, 1, 2, 3, 4, 1, 2, 3, 4, 1]\n",
    "\n",
    "remove(lst, 1, 12) ➞ [1]\n",
    "\n",
    "concat(lst, [3, 4]) ➞ [1, 3, 4]"
   ]
  },
  {
   "cell_type": "code",
   "execution_count": 1,
   "metadata": {},
   "outputs": [],
   "source": [
    "def repeat(lst,n):\n",
    "    lst += lst*(n-1)\n",
    "    return lst\n",
    "\n",
    "def add(lst,x):\n",
    "    lst.append(x)\n",
    "    return lst\n",
    "\n",
    "def remove(lst,m,n):\n",
    "    for i in lst[m:n+1]:\n",
    "        lst.remove(i)\n",
    "    return lst\n",
    "\n",
    "def concat(lst,x):\n",
    "    lst += x\n",
    "    return lst "
   ]
  },
  {
   "cell_type": "code",
   "execution_count": 2,
   "metadata": {},
   "outputs": [
    {
     "data": {
      "text/plain": [
       "[1, 2, 3, 4, 1, 2, 3, 4, 1, 2, 3, 4]"
      ]
     },
     "execution_count": 2,
     "metadata": {},
     "output_type": "execute_result"
    }
   ],
   "source": [
    "lst = [1, 2, 3, 4]\n",
    "repeat(lst, 3)"
   ]
  },
  {
   "cell_type": "code",
   "execution_count": 3,
   "metadata": {},
   "outputs": [
    {
     "data": {
      "text/plain": [
       "[1, 2, 3, 4, 1, 2, 3, 4, 1, 2, 3, 4, 1]"
      ]
     },
     "execution_count": 3,
     "metadata": {},
     "output_type": "execute_result"
    }
   ],
   "source": [
    "add(lst, 1)"
   ]
  },
  {
   "cell_type": "code",
   "execution_count": 4,
   "metadata": {},
   "outputs": [
    {
     "data": {
      "text/plain": [
       "[1]"
      ]
     },
     "execution_count": 4,
     "metadata": {},
     "output_type": "execute_result"
    }
   ],
   "source": [
    "remove(lst, 1, 12)"
   ]
  },
  {
   "cell_type": "code",
   "execution_count": 5,
   "metadata": {},
   "outputs": [
    {
     "data": {
      "text/plain": [
       "[1, 3, 4]"
      ]
     },
     "execution_count": 5,
     "metadata": {},
     "output_type": "execute_result"
    }
   ],
   "source": [
    "concat(lst, [3, 4])"
   ]
  },
  {
   "cell_type": "markdown",
   "metadata": {},
   "source": [
    "### 2. The classic game of Mastermind is played on a tray on which the Mastermind conceals a code and the Guesser has 10 tries to guess it. The code is a sequence of 4 (or 6, sometimes more) pegs of different colors. Each guess is a corresponding sequence of 4 (or more) pegs of different colors. A guess is \"correct\" when the color of every peg in the guess exactly matches the corresponding peg in the Mastermind's code.\n",
    "After each guess by the Guesser, the Mastermind will give a score comprising black & white pegs, not arranged in any order:\n",
    "\n",
    "Black peg == guess peg matches the color of a code peg in the same position.\n",
    "White peg == guess peg matches the color of a code peg in another position.\n",
    "Create a function that takes two strings, code and guess as arguments, and returns the score in a dictionary.\n",
    "\n",
    "The code and guess are strings of numeric digits\n",
    "The color of the pegs are represented by numeric digits\n",
    "no \"peg\" may be double-scored\n",
    "Examples\n",
    "\n",
    "guess_score(\"1423\", \"5678\") ➞ {\"black\": 0, \"white\": 0}\n",
    "\n",
    "guess_score(\"1423\", \"2222\") ➞ {\"black\": 1, \"white\": 0}\n",
    "\n",
    "guess_score(\"1423\", \"1234\") ➞ {\"black\": 1, \"white\": 3}\n",
    "\n",
    "guess_score(\"1423\", \"2211\") ➞ {\"black\": 0, \"white\": 2}"
   ]
  },
  {
   "cell_type": "code",
   "execution_count": 29,
   "metadata": {},
   "outputs": [],
   "source": [
    "def guess_score(code,guess):\n",
    "    try:\n",
    "        res = {\"black\" : 0, \"white\" : 0}\n",
    "\n",
    "        for i in range(len(guess)):\n",
    "            if  guess[i] == code[i]:\n",
    "                res[\"black\"] += 1\n",
    "            elif guess[i] != code[i] and code[i] in guess:\n",
    "                    res[\"white\"] += 1\n",
    "        return res\n",
    "    \n",
    "    except Exception as e:\n",
    "        print(\"Error occurred\",e) "
   ]
  },
  {
   "cell_type": "code",
   "execution_count": 30,
   "metadata": {},
   "outputs": [
    {
     "data": {
      "text/plain": [
       "{'black': 0, 'white': 0}"
      ]
     },
     "execution_count": 30,
     "metadata": {},
     "output_type": "execute_result"
    }
   ],
   "source": [
    "guess_score(\"1423\", \"5678\") "
   ]
  },
  {
   "cell_type": "code",
   "execution_count": 31,
   "metadata": {},
   "outputs": [
    {
     "data": {
      "text/plain": [
       "{'black': 1, 'white': 0}"
      ]
     },
     "execution_count": 31,
     "metadata": {},
     "output_type": "execute_result"
    }
   ],
   "source": [
    "guess_score(\"1423\", \"2222\")"
   ]
  },
  {
   "cell_type": "code",
   "execution_count": 9,
   "metadata": {},
   "outputs": [
    {
     "data": {
      "text/plain": [
       "{'black': 1, 'white': 3}"
      ]
     },
     "execution_count": 9,
     "metadata": {},
     "output_type": "execute_result"
    }
   ],
   "source": [
    "guess_score(\"1423\", \"1234\")"
   ]
  },
  {
   "cell_type": "code",
   "execution_count": 10,
   "metadata": {},
   "outputs": [
    {
     "data": {
      "text/plain": [
       "{'black': 0, 'white': 2}"
      ]
     },
     "execution_count": 10,
     "metadata": {},
     "output_type": "execute_result"
    }
   ],
   "source": [
    "guess_score(\"1423\", \"2211\")"
   ]
  },
  {
   "cell_type": "markdown",
   "metadata": {},
   "source": [
    "### 3. Create a function that takes a list lst and a number N and returns a list of two integers from lst whose product equals N.\n",
    "Examples\n",
    "\n",
    "two_product([1, 2, -1, 4, 5], 20) ➞ [4, 5]\n",
    "\n",
    "two_product([1, 2, 3, 4, 5], 10) ➞ [2, 5]\n",
    "\n",
    "two_product([100, 12, 4, 1, 2], 15) ➞ None"
   ]
  },
  {
   "cell_type": "code",
   "execution_count": 27,
   "metadata": {},
   "outputs": [],
   "source": [
    "def two_product(lst,N):\n",
    "    try:\n",
    "        res = \"None\"\n",
    "        for i in range(len(lst)):\n",
    "            for j in range(i):\n",
    "                if lst[i]*lst[j]==N and i!=j:\n",
    "                    res =  [lst[min(i,j)],lst[max(i,j)]]\n",
    "\n",
    "        return res\n",
    "            \n",
    "    except Exception as e:\n",
    "        print(\"Error occurred\",e)  "
   ]
  },
  {
   "cell_type": "code",
   "execution_count": 28,
   "metadata": {},
   "outputs": [
    {
     "data": {
      "text/plain": [
       "[4, 5]"
      ]
     },
     "execution_count": 28,
     "metadata": {},
     "output_type": "execute_result"
    }
   ],
   "source": [
    "two_product([1, 2, -1, 4, 5], 20)"
   ]
  },
  {
   "cell_type": "code",
   "execution_count": 13,
   "metadata": {},
   "outputs": [
    {
     "data": {
      "text/plain": [
       "[2, 5]"
      ]
     },
     "execution_count": 13,
     "metadata": {},
     "output_type": "execute_result"
    }
   ],
   "source": [
    "two_product([1, 2, 3, 4, 5], 10)"
   ]
  },
  {
   "cell_type": "code",
   "execution_count": 14,
   "metadata": {},
   "outputs": [
    {
     "data": {
      "text/plain": [
       "'None'"
      ]
     },
     "execution_count": 14,
     "metadata": {},
     "output_type": "execute_result"
    }
   ],
   "source": [
    "two_product([100, 12, 4, 1, 2], 15)"
   ]
  },
  {
   "cell_type": "markdown",
   "metadata": {},
   "source": [
    "### 4. In this challenge, sort a list containing a series of dates given as strings. Each date is given in the format DD-MM-YYYY_HH:MM:\n",
    "\"12-02-2012_13:44\"\n",
    "\n",
    "The priority of criteria used for sorting will be:\n",
    "\n",
    "Year\n",
    "Month\n",
    "Day\n",
    "Hours\n",
    "Minutes\n",
    "Given a list lst and a string mode, implement a function that returns:\n",
    "\n",
    "if mode is equal to \"ASC\", the list lst sorted in ascending order.\n",
    "if mode is equal to \"DSC\", the list lst sorted in descending order.\n",
    "Examples\n",
    "\n",
    "sort_dates([\"10-02-2018_12:30\", \"10-02-2016_12:30\", \"10-02-2018_12:15\"], \"ASC\") ➞ [\"10-02-2016_12:30\", \"10-02-2018_12:15\", \"10-02-2018_12:30\"]\n",
    "\n",
    "sort_dates([\"10-02-2018_12:30\", \"10-02-2016_12:30\", \"10-02-2018_12:15\"], \"DSC\") ➞ [\"10-02-2018_12:30\", \"10-02-2018_12:15\", \"10-02-2016_12:30\"]\n",
    "\n",
    "sort_dates([\"09-02-2000_10:03\", \"10-02-2000_18:29\", \"01-01-1999_00:55\"], \"ASC\") ➞ [\"01-01-1999_00:55\", \"09-02-2000_10:03\", \"10-02-2000_18:29\"]"
   ]
  },
  {
   "cell_type": "code",
   "execution_count": null,
   "metadata": {},
   "outputs": [],
   "source": []
  },
  {
   "cell_type": "markdown",
   "metadata": {},
   "source": [
    "### 5. Write a function that selects all words that have all the same vowels (in any order and/or number) as the first word, including the first word.\n",
    "Examples\n",
    "\n",
    "same_vowel_group([\"toe\", \"ocelot\", \"maniac\"]) ➞ [\"toe\", \"ocelot\"]\n",
    "\n",
    "same_vowel_group([\"many\", \"carriage\", \"emit\", \"apricot\", \"animal\"]) ➞ [\"many\"]\n",
    "\n",
    "same_vowel_group([\"hoops\", \"chuff\", \"bot\", \"bottom\"]) ➞ [\"hoops\", \"bot\", \"bottom\"]"
   ]
  },
  {
   "cell_type": "code",
   "execution_count": 25,
   "metadata": {},
   "outputs": [],
   "source": [
    "def extract_vowel(string):\n",
    "    vowels = 'aeiou'\n",
    "    res = [i for i in string if i in vowels]\n",
    "    return sorted(list(set(res)))\n",
    "\n",
    "def same_vowel_group(string_list):\n",
    "    try:\n",
    "        res = [string_list[0]]\n",
    "        vow = extract_vowel(string_list[0])\n",
    "        for i in string_list[1:]:\n",
    "            vow_to_match = extract_vowel(i)\n",
    "            if vow_to_match == vow:\n",
    "                res += [i]\n",
    "        return res\n",
    "    \n",
    "    except Exception as e:\n",
    "        print(\"Error occurred\",e)"
   ]
  },
  {
   "cell_type": "code",
   "execution_count": 26,
   "metadata": {},
   "outputs": [
    {
     "data": {
      "text/plain": [
       "['toe', 'ocelot']"
      ]
     },
     "execution_count": 26,
     "metadata": {},
     "output_type": "execute_result"
    }
   ],
   "source": [
    "same_vowel_group([\"toe\", \"ocelot\", \"maniac\"]) "
   ]
  },
  {
   "cell_type": "code",
   "execution_count": 17,
   "metadata": {},
   "outputs": [
    {
     "data": {
      "text/plain": [
       "['many']"
      ]
     },
     "execution_count": 17,
     "metadata": {},
     "output_type": "execute_result"
    }
   ],
   "source": [
    "same_vowel_group([\"many\", \"carriage\", \"emit\", \"apricot\", \"animal\"]) "
   ]
  },
  {
   "cell_type": "code",
   "execution_count": 18,
   "metadata": {},
   "outputs": [
    {
     "data": {
      "text/plain": [
       "['hoops', 'bot', 'bottom']"
      ]
     },
     "execution_count": 18,
     "metadata": {},
     "output_type": "execute_result"
    }
   ],
   "source": [
    "same_vowel_group([\"hoops\", \"chuff\", \"bot\", \"bottom\"])"
   ]
  },
  {
   "cell_type": "markdown",
   "metadata": {},
   "source": [
    "### 6. Create a function that takes a list of more than three numbers and returns the Least Common Multiple (LCM).\n",
    "Examples\n",
    "\n",
    "lcm_of_list([1, 2, 3, 4, 5, 6, 7, 8, 9, 10]) ➞ 2520\n",
    "\n",
    "lcm_of_list([13, 6, 17, 18, 19, 20, 37]) ➞ 27965340\n",
    "\n",
    "lcm_of_list([44, 64, 12, 17, 65]) ➞ 2333760"
   ]
  },
  {
   "cell_type": "code",
   "execution_count": 23,
   "metadata": {},
   "outputs": [],
   "source": [
    "import numpy as np\n",
    "def lcm_of_list(num_list):\n",
    "    try:\n",
    "        res = np.lcm.reduce(num_list)\n",
    "        return res\n",
    "    \n",
    "    except Exception as e:\n",
    "        print(\"Error occurred\",e)"
   ]
  },
  {
   "cell_type": "code",
   "execution_count": 24,
   "metadata": {},
   "outputs": [
    {
     "data": {
      "text/plain": [
       "2520"
      ]
     },
     "execution_count": 24,
     "metadata": {},
     "output_type": "execute_result"
    }
   ],
   "source": [
    "lcm_of_list([1, 2, 3, 4, 5, 6, 7, 8, 9, 10])"
   ]
  },
  {
   "cell_type": "code",
   "execution_count": 21,
   "metadata": {},
   "outputs": [
    {
     "data": {
      "text/plain": [
       "27965340"
      ]
     },
     "execution_count": 21,
     "metadata": {},
     "output_type": "execute_result"
    }
   ],
   "source": [
    "lcm_of_list([13, 6, 17, 18, 19, 20, 37])"
   ]
  },
  {
   "cell_type": "code",
   "execution_count": 22,
   "metadata": {},
   "outputs": [
    {
     "data": {
      "text/plain": [
       "2333760"
      ]
     },
     "execution_count": 22,
     "metadata": {},
     "output_type": "execute_result"
    }
   ],
   "source": [
    "lcm_of_list([44, 64, 12, 17, 65]) "
   ]
  },
  {
   "cell_type": "code",
   "execution_count": null,
   "metadata": {},
   "outputs": [],
   "source": []
  }
 ],
 "metadata": {
  "kernelspec": {
   "display_name": "Python 3",
   "language": "python",
   "name": "python3"
  },
  "language_info": {
   "codemirror_mode": {
    "name": "ipython",
    "version": 3
   },
   "file_extension": ".py",
   "mimetype": "text/x-python",
   "name": "python",
   "nbconvert_exporter": "python",
   "pygments_lexer": "ipython3",
   "version": "3.8.5"
  }
 },
 "nbformat": 4,
 "nbformat_minor": 4
}
